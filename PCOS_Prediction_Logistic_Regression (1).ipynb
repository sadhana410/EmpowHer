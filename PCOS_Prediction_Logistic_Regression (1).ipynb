{
  "cells": [
    {
      "cell_type": "code",
      "execution_count": 17,
      "id": "cdd204d4",
      "metadata": {
        "id": "cdd204d4"
      },
      "outputs": [],
      "source": [
        "import pandas as pd\n",
        "import numpy as np\n",
        "from sklearn.linear_model import LogisticRegression\n",
        "from sklearn.model_selection import train_test_split\n",
        "from sklearn.metrics import confusion_matrix\n"
      ]
    },
    {
      "cell_type": "code",
      "execution_count": 18,
      "id": "32f88791",
      "metadata": {
        "id": "32f88791",
        "outputId": "c5d591ee-a398-440b-ef0c-caf124046de3",
        "colab": {
          "base_uri": "https://localhost:8080/",
          "height": 285
        }
      },
      "outputs": [
        {
          "output_type": "execute_result",
          "data": {
            "text/plain": [
              "   Sl. No  Patient File No.  PCOS (Y/N)        BMI  Cycle length(days)  \\\n",
              "0       1             10001           0  19.300000                 5.0   \n",
              "1       2             10002           0  24.921163                 5.0   \n",
              "2       3             10003           1  25.270891                 5.0   \n",
              "3       4             10004           0  29.674945                 5.0   \n",
              "4       5             10005           0  20.060954                 5.0   \n",
              "\n",
              "   Hip(inch)  Waist(inch)  Cycle(R/I)  Weight gain(Y/N)  hair growth(Y/N)  \\\n",
              "0         36         30.0         2.0               0.0                 0   \n",
              "1         38         32.0         2.0               0.0                 0   \n",
              "2         40         36.0         2.0               0.0                 0   \n",
              "3         42         36.0         2.0               0.0                 0   \n",
              "4         37         30.0         2.0               0.0                 0   \n",
              "\n",
              "   Skin darkening (Y/N)  Follicle No. (L)  Follicle No. (R)  \n",
              "0                     0                 3                 3  \n",
              "1                     0                 3                 5  \n",
              "2                     0                13                15  \n",
              "3                     0                 2                 2  \n",
              "4                     0                 3                 4  "
            ],
            "text/html": [
              "\n",
              "  <div id=\"df-c01692cd-24f9-40af-bb24-102d0fe54734\">\n",
              "    <div class=\"colab-df-container\">\n",
              "      <div>\n",
              "<style scoped>\n",
              "    .dataframe tbody tr th:only-of-type {\n",
              "        vertical-align: middle;\n",
              "    }\n",
              "\n",
              "    .dataframe tbody tr th {\n",
              "        vertical-align: top;\n",
              "    }\n",
              "\n",
              "    .dataframe thead th {\n",
              "        text-align: right;\n",
              "    }\n",
              "</style>\n",
              "<table border=\"1\" class=\"dataframe\">\n",
              "  <thead>\n",
              "    <tr style=\"text-align: right;\">\n",
              "      <th></th>\n",
              "      <th>Sl. No</th>\n",
              "      <th>Patient File No.</th>\n",
              "      <th>PCOS (Y/N)</th>\n",
              "      <th>BMI</th>\n",
              "      <th>Cycle length(days)</th>\n",
              "      <th>Hip(inch)</th>\n",
              "      <th>Waist(inch)</th>\n",
              "      <th>Cycle(R/I)</th>\n",
              "      <th>Weight gain(Y/N)</th>\n",
              "      <th>hair growth(Y/N)</th>\n",
              "      <th>Skin darkening (Y/N)</th>\n",
              "      <th>Follicle No. (L)</th>\n",
              "      <th>Follicle No. (R)</th>\n",
              "    </tr>\n",
              "  </thead>\n",
              "  <tbody>\n",
              "    <tr>\n",
              "      <th>0</th>\n",
              "      <td>1</td>\n",
              "      <td>10001</td>\n",
              "      <td>0</td>\n",
              "      <td>19.300000</td>\n",
              "      <td>5.0</td>\n",
              "      <td>36</td>\n",
              "      <td>30.0</td>\n",
              "      <td>2.0</td>\n",
              "      <td>0.0</td>\n",
              "      <td>0</td>\n",
              "      <td>0</td>\n",
              "      <td>3</td>\n",
              "      <td>3</td>\n",
              "    </tr>\n",
              "    <tr>\n",
              "      <th>1</th>\n",
              "      <td>2</td>\n",
              "      <td>10002</td>\n",
              "      <td>0</td>\n",
              "      <td>24.921163</td>\n",
              "      <td>5.0</td>\n",
              "      <td>38</td>\n",
              "      <td>32.0</td>\n",
              "      <td>2.0</td>\n",
              "      <td>0.0</td>\n",
              "      <td>0</td>\n",
              "      <td>0</td>\n",
              "      <td>3</td>\n",
              "      <td>5</td>\n",
              "    </tr>\n",
              "    <tr>\n",
              "      <th>2</th>\n",
              "      <td>3</td>\n",
              "      <td>10003</td>\n",
              "      <td>1</td>\n",
              "      <td>25.270891</td>\n",
              "      <td>5.0</td>\n",
              "      <td>40</td>\n",
              "      <td>36.0</td>\n",
              "      <td>2.0</td>\n",
              "      <td>0.0</td>\n",
              "      <td>0</td>\n",
              "      <td>0</td>\n",
              "      <td>13</td>\n",
              "      <td>15</td>\n",
              "    </tr>\n",
              "    <tr>\n",
              "      <th>3</th>\n",
              "      <td>4</td>\n",
              "      <td>10004</td>\n",
              "      <td>0</td>\n",
              "      <td>29.674945</td>\n",
              "      <td>5.0</td>\n",
              "      <td>42</td>\n",
              "      <td>36.0</td>\n",
              "      <td>2.0</td>\n",
              "      <td>0.0</td>\n",
              "      <td>0</td>\n",
              "      <td>0</td>\n",
              "      <td>2</td>\n",
              "      <td>2</td>\n",
              "    </tr>\n",
              "    <tr>\n",
              "      <th>4</th>\n",
              "      <td>5</td>\n",
              "      <td>10005</td>\n",
              "      <td>0</td>\n",
              "      <td>20.060954</td>\n",
              "      <td>5.0</td>\n",
              "      <td>37</td>\n",
              "      <td>30.0</td>\n",
              "      <td>2.0</td>\n",
              "      <td>0.0</td>\n",
              "      <td>0</td>\n",
              "      <td>0</td>\n",
              "      <td>3</td>\n",
              "      <td>4</td>\n",
              "    </tr>\n",
              "  </tbody>\n",
              "</table>\n",
              "</div>\n",
              "      <button class=\"colab-df-convert\" onclick=\"convertToInteractive('df-c01692cd-24f9-40af-bb24-102d0fe54734')\"\n",
              "              title=\"Convert this dataframe to an interactive table.\"\n",
              "              style=\"display:none;\">\n",
              "        \n",
              "  <svg xmlns=\"http://www.w3.org/2000/svg\" height=\"24px\"viewBox=\"0 0 24 24\"\n",
              "       width=\"24px\">\n",
              "    <path d=\"M0 0h24v24H0V0z\" fill=\"none\"/>\n",
              "    <path d=\"M18.56 5.44l.94 2.06.94-2.06 2.06-.94-2.06-.94-.94-2.06-.94 2.06-2.06.94zm-11 1L8.5 8.5l.94-2.06 2.06-.94-2.06-.94L8.5 2.5l-.94 2.06-2.06.94zm10 10l.94 2.06.94-2.06 2.06-.94-2.06-.94-.94-2.06-.94 2.06-2.06.94z\"/><path d=\"M17.41 7.96l-1.37-1.37c-.4-.4-.92-.59-1.43-.59-.52 0-1.04.2-1.43.59L10.3 9.45l-7.72 7.72c-.78.78-.78 2.05 0 2.83L4 21.41c.39.39.9.59 1.41.59.51 0 1.02-.2 1.41-.59l7.78-7.78 2.81-2.81c.8-.78.8-2.07 0-2.86zM5.41 20L4 18.59l7.72-7.72 1.47 1.35L5.41 20z\"/>\n",
              "  </svg>\n",
              "      </button>\n",
              "      \n",
              "  <style>\n",
              "    .colab-df-container {\n",
              "      display:flex;\n",
              "      flex-wrap:wrap;\n",
              "      gap: 12px;\n",
              "    }\n",
              "\n",
              "    .colab-df-convert {\n",
              "      background-color: #E8F0FE;\n",
              "      border: none;\n",
              "      border-radius: 50%;\n",
              "      cursor: pointer;\n",
              "      display: none;\n",
              "      fill: #1967D2;\n",
              "      height: 32px;\n",
              "      padding: 0 0 0 0;\n",
              "      width: 32px;\n",
              "    }\n",
              "\n",
              "    .colab-df-convert:hover {\n",
              "      background-color: #E2EBFA;\n",
              "      box-shadow: 0px 1px 2px rgba(60, 64, 67, 0.3), 0px 1px 3px 1px rgba(60, 64, 67, 0.15);\n",
              "      fill: #174EA6;\n",
              "    }\n",
              "\n",
              "    [theme=dark] .colab-df-convert {\n",
              "      background-color: #3B4455;\n",
              "      fill: #D2E3FC;\n",
              "    }\n",
              "\n",
              "    [theme=dark] .colab-df-convert:hover {\n",
              "      background-color: #434B5C;\n",
              "      box-shadow: 0px 1px 3px 1px rgba(0, 0, 0, 0.15);\n",
              "      filter: drop-shadow(0px 1px 2px rgba(0, 0, 0, 0.3));\n",
              "      fill: #FFFFFF;\n",
              "    }\n",
              "  </style>\n",
              "\n",
              "      <script>\n",
              "        const buttonEl =\n",
              "          document.querySelector('#df-c01692cd-24f9-40af-bb24-102d0fe54734 button.colab-df-convert');\n",
              "        buttonEl.style.display =\n",
              "          google.colab.kernel.accessAllowed ? 'block' : 'none';\n",
              "\n",
              "        async function convertToInteractive(key) {\n",
              "          const element = document.querySelector('#df-c01692cd-24f9-40af-bb24-102d0fe54734');\n",
              "          const dataTable =\n",
              "            await google.colab.kernel.invokeFunction('convertToInteractive',\n",
              "                                                     [key], {});\n",
              "          if (!dataTable) return;\n",
              "\n",
              "          const docLinkHtml = 'Like what you see? Visit the ' +\n",
              "            '<a target=\"_blank\" href=https://colab.research.google.com/notebooks/data_table.ipynb>data table notebook</a>'\n",
              "            + ' to learn more about interactive tables.';\n",
              "          element.innerHTML = '';\n",
              "          dataTable['output_type'] = 'display_data';\n",
              "          await google.colab.output.renderOutput(dataTable, element);\n",
              "          const docLink = document.createElement('div');\n",
              "          docLink.innerHTML = docLinkHtml;\n",
              "          element.appendChild(docLink);\n",
              "        }\n",
              "      </script>\n",
              "    </div>\n",
              "  </div>\n",
              "  "
            ]
          },
          "metadata": {},
          "execution_count": 18
        }
      ],
      "source": [
        "df=pd.read_csv(\"/content/drive/MyDrive/pcos_records.csv\")\n",
        "df.head()"
      ]
    },
    {
      "cell_type": "code",
      "source": [
        "from google.colab import drive\n",
        "drive.mount('/content/drive')"
      ],
      "metadata": {
        "colab": {
          "base_uri": "https://localhost:8080/"
        },
        "id": "VU86f3Afm4Hz",
        "outputId": "c7babd6e-9228-485e-ad84-6f537cbc5f48"
      },
      "id": "VU86f3Afm4Hz",
      "execution_count": 19,
      "outputs": [
        {
          "output_type": "stream",
          "name": "stdout",
          "text": [
            "Drive already mounted at /content/drive; to attempt to forcibly remount, call drive.mount(\"/content/drive\", force_remount=True).\n"
          ]
        }
      ]
    },
    {
      "cell_type": "code",
      "execution_count": 20,
      "id": "bf27de7b",
      "metadata": {
        "id": "bf27de7b",
        "outputId": "1b736885-bdaf-4466-a3db-4469ed15a2cc",
        "colab": {
          "base_uri": "https://localhost:8080/"
        }
      },
      "outputs": [
        {
          "output_type": "execute_result",
          "data": {
            "text/plain": [
              "(541, 13)"
            ]
          },
          "metadata": {},
          "execution_count": 20
        }
      ],
      "source": [
        "df.shape"
      ]
    },
    {
      "cell_type": "code",
      "execution_count": 21,
      "id": "7a3e77f3",
      "metadata": {
        "id": "7a3e77f3",
        "outputId": "db1c399a-c6da-4e22-bee7-c5a935e8641c",
        "colab": {
          "base_uri": "https://localhost:8080/"
        }
      },
      "outputs": [
        {
          "output_type": "execute_result",
          "data": {
            "text/plain": [
              "Index(['Sl. No', 'Patient File No.', 'PCOS (Y/N)', 'BMI', 'Cycle length(days)',\n",
              "       'Hip(inch)', 'Waist(inch)', 'Cycle(R/I)', 'Weight gain(Y/N)',\n",
              "       'hair growth(Y/N)', 'Skin darkening (Y/N)', 'Follicle No. (L)',\n",
              "       'Follicle No. (R)'],\n",
              "      dtype='object')"
            ]
          },
          "metadata": {},
          "execution_count": 21
        }
      ],
      "source": [
        "df.columns"
      ]
    },
    {
      "cell_type": "code",
      "execution_count": 22,
      "id": "dea8da69",
      "metadata": {
        "scrolled": true,
        "id": "dea8da69",
        "outputId": "4cfa45ff-0984-4ada-8828-fe6e971d326d",
        "colab": {
          "base_uri": "https://localhost:8080/",
          "height": 285
        }
      },
      "outputs": [
        {
          "output_type": "execute_result",
          "data": {
            "text/plain": [
              "   Sl. No  Patient File No.  PCOS (Y/N)        BMI  Cycle length(days)  \\\n",
              "0       1             10001           0  19.300000                 5.0   \n",
              "1       2             10002           0  24.921163                 5.0   \n",
              "2       3             10003           1  25.270891                 5.0   \n",
              "3       4             10004           0  29.674945                 5.0   \n",
              "4       5             10005           0  20.060954                 5.0   \n",
              "\n",
              "   Hip(inch)  Waist(inch)  Cycle(R/I)  Weight gain(Y/N)  hair growth(Y/N)  \\\n",
              "0         36         30.0         2.0               0.0                 0   \n",
              "1         38         32.0         2.0               0.0                 0   \n",
              "2         40         36.0         2.0               0.0                 0   \n",
              "3         42         36.0         2.0               0.0                 0   \n",
              "4         37         30.0         2.0               0.0                 0   \n",
              "\n",
              "   Skin darkening (Y/N)  Follicle No. (L)  Follicle No. (R)  \n",
              "0                     0                 3                 3  \n",
              "1                     0                 3                 5  \n",
              "2                     0                13                15  \n",
              "3                     0                 2                 2  \n",
              "4                     0                 3                 4  "
            ],
            "text/html": [
              "\n",
              "  <div id=\"df-f487c20e-0def-4547-b1cc-db31e7a91aa4\">\n",
              "    <div class=\"colab-df-container\">\n",
              "      <div>\n",
              "<style scoped>\n",
              "    .dataframe tbody tr th:only-of-type {\n",
              "        vertical-align: middle;\n",
              "    }\n",
              "\n",
              "    .dataframe tbody tr th {\n",
              "        vertical-align: top;\n",
              "    }\n",
              "\n",
              "    .dataframe thead th {\n",
              "        text-align: right;\n",
              "    }\n",
              "</style>\n",
              "<table border=\"1\" class=\"dataframe\">\n",
              "  <thead>\n",
              "    <tr style=\"text-align: right;\">\n",
              "      <th></th>\n",
              "      <th>Sl. No</th>\n",
              "      <th>Patient File No.</th>\n",
              "      <th>PCOS (Y/N)</th>\n",
              "      <th>BMI</th>\n",
              "      <th>Cycle length(days)</th>\n",
              "      <th>Hip(inch)</th>\n",
              "      <th>Waist(inch)</th>\n",
              "      <th>Cycle(R/I)</th>\n",
              "      <th>Weight gain(Y/N)</th>\n",
              "      <th>hair growth(Y/N)</th>\n",
              "      <th>Skin darkening (Y/N)</th>\n",
              "      <th>Follicle No. (L)</th>\n",
              "      <th>Follicle No. (R)</th>\n",
              "    </tr>\n",
              "  </thead>\n",
              "  <tbody>\n",
              "    <tr>\n",
              "      <th>0</th>\n",
              "      <td>1</td>\n",
              "      <td>10001</td>\n",
              "      <td>0</td>\n",
              "      <td>19.300000</td>\n",
              "      <td>5.0</td>\n",
              "      <td>36</td>\n",
              "      <td>30.0</td>\n",
              "      <td>2.0</td>\n",
              "      <td>0.0</td>\n",
              "      <td>0</td>\n",
              "      <td>0</td>\n",
              "      <td>3</td>\n",
              "      <td>3</td>\n",
              "    </tr>\n",
              "    <tr>\n",
              "      <th>1</th>\n",
              "      <td>2</td>\n",
              "      <td>10002</td>\n",
              "      <td>0</td>\n",
              "      <td>24.921163</td>\n",
              "      <td>5.0</td>\n",
              "      <td>38</td>\n",
              "      <td>32.0</td>\n",
              "      <td>2.0</td>\n",
              "      <td>0.0</td>\n",
              "      <td>0</td>\n",
              "      <td>0</td>\n",
              "      <td>3</td>\n",
              "      <td>5</td>\n",
              "    </tr>\n",
              "    <tr>\n",
              "      <th>2</th>\n",
              "      <td>3</td>\n",
              "      <td>10003</td>\n",
              "      <td>1</td>\n",
              "      <td>25.270891</td>\n",
              "      <td>5.0</td>\n",
              "      <td>40</td>\n",
              "      <td>36.0</td>\n",
              "      <td>2.0</td>\n",
              "      <td>0.0</td>\n",
              "      <td>0</td>\n",
              "      <td>0</td>\n",
              "      <td>13</td>\n",
              "      <td>15</td>\n",
              "    </tr>\n",
              "    <tr>\n",
              "      <th>3</th>\n",
              "      <td>4</td>\n",
              "      <td>10004</td>\n",
              "      <td>0</td>\n",
              "      <td>29.674945</td>\n",
              "      <td>5.0</td>\n",
              "      <td>42</td>\n",
              "      <td>36.0</td>\n",
              "      <td>2.0</td>\n",
              "      <td>0.0</td>\n",
              "      <td>0</td>\n",
              "      <td>0</td>\n",
              "      <td>2</td>\n",
              "      <td>2</td>\n",
              "    </tr>\n",
              "    <tr>\n",
              "      <th>4</th>\n",
              "      <td>5</td>\n",
              "      <td>10005</td>\n",
              "      <td>0</td>\n",
              "      <td>20.060954</td>\n",
              "      <td>5.0</td>\n",
              "      <td>37</td>\n",
              "      <td>30.0</td>\n",
              "      <td>2.0</td>\n",
              "      <td>0.0</td>\n",
              "      <td>0</td>\n",
              "      <td>0</td>\n",
              "      <td>3</td>\n",
              "      <td>4</td>\n",
              "    </tr>\n",
              "  </tbody>\n",
              "</table>\n",
              "</div>\n",
              "      <button class=\"colab-df-convert\" onclick=\"convertToInteractive('df-f487c20e-0def-4547-b1cc-db31e7a91aa4')\"\n",
              "              title=\"Convert this dataframe to an interactive table.\"\n",
              "              style=\"display:none;\">\n",
              "        \n",
              "  <svg xmlns=\"http://www.w3.org/2000/svg\" height=\"24px\"viewBox=\"0 0 24 24\"\n",
              "       width=\"24px\">\n",
              "    <path d=\"M0 0h24v24H0V0z\" fill=\"none\"/>\n",
              "    <path d=\"M18.56 5.44l.94 2.06.94-2.06 2.06-.94-2.06-.94-.94-2.06-.94 2.06-2.06.94zm-11 1L8.5 8.5l.94-2.06 2.06-.94-2.06-.94L8.5 2.5l-.94 2.06-2.06.94zm10 10l.94 2.06.94-2.06 2.06-.94-2.06-.94-.94-2.06-.94 2.06-2.06.94z\"/><path d=\"M17.41 7.96l-1.37-1.37c-.4-.4-.92-.59-1.43-.59-.52 0-1.04.2-1.43.59L10.3 9.45l-7.72 7.72c-.78.78-.78 2.05 0 2.83L4 21.41c.39.39.9.59 1.41.59.51 0 1.02-.2 1.41-.59l7.78-7.78 2.81-2.81c.8-.78.8-2.07 0-2.86zM5.41 20L4 18.59l7.72-7.72 1.47 1.35L5.41 20z\"/>\n",
              "  </svg>\n",
              "      </button>\n",
              "      \n",
              "  <style>\n",
              "    .colab-df-container {\n",
              "      display:flex;\n",
              "      flex-wrap:wrap;\n",
              "      gap: 12px;\n",
              "    }\n",
              "\n",
              "    .colab-df-convert {\n",
              "      background-color: #E8F0FE;\n",
              "      border: none;\n",
              "      border-radius: 50%;\n",
              "      cursor: pointer;\n",
              "      display: none;\n",
              "      fill: #1967D2;\n",
              "      height: 32px;\n",
              "      padding: 0 0 0 0;\n",
              "      width: 32px;\n",
              "    }\n",
              "\n",
              "    .colab-df-convert:hover {\n",
              "      background-color: #E2EBFA;\n",
              "      box-shadow: 0px 1px 2px rgba(60, 64, 67, 0.3), 0px 1px 3px 1px rgba(60, 64, 67, 0.15);\n",
              "      fill: #174EA6;\n",
              "    }\n",
              "\n",
              "    [theme=dark] .colab-df-convert {\n",
              "      background-color: #3B4455;\n",
              "      fill: #D2E3FC;\n",
              "    }\n",
              "\n",
              "    [theme=dark] .colab-df-convert:hover {\n",
              "      background-color: #434B5C;\n",
              "      box-shadow: 0px 1px 3px 1px rgba(0, 0, 0, 0.15);\n",
              "      filter: drop-shadow(0px 1px 2px rgba(0, 0, 0, 0.3));\n",
              "      fill: #FFFFFF;\n",
              "    }\n",
              "  </style>\n",
              "\n",
              "      <script>\n",
              "        const buttonEl =\n",
              "          document.querySelector('#df-f487c20e-0def-4547-b1cc-db31e7a91aa4 button.colab-df-convert');\n",
              "        buttonEl.style.display =\n",
              "          google.colab.kernel.accessAllowed ? 'block' : 'none';\n",
              "\n",
              "        async function convertToInteractive(key) {\n",
              "          const element = document.querySelector('#df-f487c20e-0def-4547-b1cc-db31e7a91aa4');\n",
              "          const dataTable =\n",
              "            await google.colab.kernel.invokeFunction('convertToInteractive',\n",
              "                                                     [key], {});\n",
              "          if (!dataTable) return;\n",
              "\n",
              "          const docLinkHtml = 'Like what you see? Visit the ' +\n",
              "            '<a target=\"_blank\" href=https://colab.research.google.com/notebooks/data_table.ipynb>data table notebook</a>'\n",
              "            + ' to learn more about interactive tables.';\n",
              "          element.innerHTML = '';\n",
              "          dataTable['output_type'] = 'display_data';\n",
              "          await google.colab.output.renderOutput(dataTable, element);\n",
              "          const docLink = document.createElement('div');\n",
              "          docLink.innerHTML = docLinkHtml;\n",
              "          element.appendChild(docLink);\n",
              "        }\n",
              "      </script>\n",
              "    </div>\n",
              "  </div>\n",
              "  "
            ]
          },
          "metadata": {},
          "execution_count": 22
        }
      ],
      "source": [
        "df.head()"
      ]
    },
    {
      "cell_type": "code",
      "execution_count": 23,
      "id": "d44c36b5",
      "metadata": {
        "id": "d44c36b5",
        "outputId": "03722558-a314-442e-fca8-caa6776f1512",
        "colab": {
          "base_uri": "https://localhost:8080/",
          "height": 128
        }
      },
      "outputs": [
        {
          "output_type": "execute_result",
          "data": {
            "text/plain": [
              "Empty DataFrame\n",
              "Columns: [Sl. No, Patient File No., PCOS (Y/N), BMI, Cycle length(days), Hip(inch), Waist(inch), Cycle(R/I), Weight gain(Y/N), hair growth(Y/N), Skin darkening (Y/N), Follicle No. (L), Follicle No. (R)]\n",
              "Index: []"
            ],
            "text/html": [
              "\n",
              "  <div id=\"df-3ba71c03-485d-40dc-ae05-49820c7d4f42\">\n",
              "    <div class=\"colab-df-container\">\n",
              "      <div>\n",
              "<style scoped>\n",
              "    .dataframe tbody tr th:only-of-type {\n",
              "        vertical-align: middle;\n",
              "    }\n",
              "\n",
              "    .dataframe tbody tr th {\n",
              "        vertical-align: top;\n",
              "    }\n",
              "\n",
              "    .dataframe thead th {\n",
              "        text-align: right;\n",
              "    }\n",
              "</style>\n",
              "<table border=\"1\" class=\"dataframe\">\n",
              "  <thead>\n",
              "    <tr style=\"text-align: right;\">\n",
              "      <th></th>\n",
              "      <th>Sl. No</th>\n",
              "      <th>Patient File No.</th>\n",
              "      <th>PCOS (Y/N)</th>\n",
              "      <th>BMI</th>\n",
              "      <th>Cycle length(days)</th>\n",
              "      <th>Hip(inch)</th>\n",
              "      <th>Waist(inch)</th>\n",
              "      <th>Cycle(R/I)</th>\n",
              "      <th>Weight gain(Y/N)</th>\n",
              "      <th>hair growth(Y/N)</th>\n",
              "      <th>Skin darkening (Y/N)</th>\n",
              "      <th>Follicle No. (L)</th>\n",
              "      <th>Follicle No. (R)</th>\n",
              "    </tr>\n",
              "  </thead>\n",
              "  <tbody>\n",
              "  </tbody>\n",
              "</table>\n",
              "</div>\n",
              "      <button class=\"colab-df-convert\" onclick=\"convertToInteractive('df-3ba71c03-485d-40dc-ae05-49820c7d4f42')\"\n",
              "              title=\"Convert this dataframe to an interactive table.\"\n",
              "              style=\"display:none;\">\n",
              "        \n",
              "  <svg xmlns=\"http://www.w3.org/2000/svg\" height=\"24px\"viewBox=\"0 0 24 24\"\n",
              "       width=\"24px\">\n",
              "    <path d=\"M0 0h24v24H0V0z\" fill=\"none\"/>\n",
              "    <path d=\"M18.56 5.44l.94 2.06.94-2.06 2.06-.94-2.06-.94-.94-2.06-.94 2.06-2.06.94zm-11 1L8.5 8.5l.94-2.06 2.06-.94-2.06-.94L8.5 2.5l-.94 2.06-2.06.94zm10 10l.94 2.06.94-2.06 2.06-.94-2.06-.94-.94-2.06-.94 2.06-2.06.94z\"/><path d=\"M17.41 7.96l-1.37-1.37c-.4-.4-.92-.59-1.43-.59-.52 0-1.04.2-1.43.59L10.3 9.45l-7.72 7.72c-.78.78-.78 2.05 0 2.83L4 21.41c.39.39.9.59 1.41.59.51 0 1.02-.2 1.41-.59l7.78-7.78 2.81-2.81c.8-.78.8-2.07 0-2.86zM5.41 20L4 18.59l7.72-7.72 1.47 1.35L5.41 20z\"/>\n",
              "  </svg>\n",
              "      </button>\n",
              "      \n",
              "  <style>\n",
              "    .colab-df-container {\n",
              "      display:flex;\n",
              "      flex-wrap:wrap;\n",
              "      gap: 12px;\n",
              "    }\n",
              "\n",
              "    .colab-df-convert {\n",
              "      background-color: #E8F0FE;\n",
              "      border: none;\n",
              "      border-radius: 50%;\n",
              "      cursor: pointer;\n",
              "      display: none;\n",
              "      fill: #1967D2;\n",
              "      height: 32px;\n",
              "      padding: 0 0 0 0;\n",
              "      width: 32px;\n",
              "    }\n",
              "\n",
              "    .colab-df-convert:hover {\n",
              "      background-color: #E2EBFA;\n",
              "      box-shadow: 0px 1px 2px rgba(60, 64, 67, 0.3), 0px 1px 3px 1px rgba(60, 64, 67, 0.15);\n",
              "      fill: #174EA6;\n",
              "    }\n",
              "\n",
              "    [theme=dark] .colab-df-convert {\n",
              "      background-color: #3B4455;\n",
              "      fill: #D2E3FC;\n",
              "    }\n",
              "\n",
              "    [theme=dark] .colab-df-convert:hover {\n",
              "      background-color: #434B5C;\n",
              "      box-shadow: 0px 1px 3px 1px rgba(0, 0, 0, 0.15);\n",
              "      filter: drop-shadow(0px 1px 2px rgba(0, 0, 0, 0.3));\n",
              "      fill: #FFFFFF;\n",
              "    }\n",
              "  </style>\n",
              "\n",
              "      <script>\n",
              "        const buttonEl =\n",
              "          document.querySelector('#df-3ba71c03-485d-40dc-ae05-49820c7d4f42 button.colab-df-convert');\n",
              "        buttonEl.style.display =\n",
              "          google.colab.kernel.accessAllowed ? 'block' : 'none';\n",
              "\n",
              "        async function convertToInteractive(key) {\n",
              "          const element = document.querySelector('#df-3ba71c03-485d-40dc-ae05-49820c7d4f42');\n",
              "          const dataTable =\n",
              "            await google.colab.kernel.invokeFunction('convertToInteractive',\n",
              "                                                     [key], {});\n",
              "          if (!dataTable) return;\n",
              "\n",
              "          const docLinkHtml = 'Like what you see? Visit the ' +\n",
              "            '<a target=\"_blank\" href=https://colab.research.google.com/notebooks/data_table.ipynb>data table notebook</a>'\n",
              "            + ' to learn more about interactive tables.';\n",
              "          element.innerHTML = '';\n",
              "          dataTable['output_type'] = 'display_data';\n",
              "          await google.colab.output.renderOutput(dataTable, element);\n",
              "          const docLink = document.createElement('div');\n",
              "          docLink.innerHTML = docLinkHtml;\n",
              "          element.appendChild(docLink);\n",
              "        }\n",
              "      </script>\n",
              "    </div>\n",
              "  </div>\n",
              "  "
            ]
          },
          "metadata": {},
          "execution_count": 23
        }
      ],
      "source": [
        "df[df[\"PCOS (Y/N)\"].isnull()]"
      ]
    },
    {
      "cell_type": "code",
      "execution_count": 24,
      "id": "bc1fcc69",
      "metadata": {
        "id": "bc1fcc69",
        "colab": {
          "base_uri": "https://localhost:8080/",
          "height": 285
        },
        "outputId": "3edf24c2-464c-4b23-b961-8f0aeca7497f"
      },
      "outputs": [
        {
          "output_type": "execute_result",
          "data": {
            "text/plain": [
              "     Sl. No  Patient File No.  PCOS (Y/N)        BMI  Cycle length(days)  \\\n",
              "153     154             10154           1  24.100000                 NaN   \n",
              "157     158             10158           0  25.636917                 NaN   \n",
              "176     177             10177           1  31.244993                 NaN   \n",
              "246     247             10247           0  20.324438                 NaN   \n",
              "384     385             10385           0  22.800000                 NaN   \n",
              "\n",
              "     Hip(inch)  Waist(inch)  Cycle(R/I)  Weight gain(Y/N)  hair growth(Y/N)  \\\n",
              "153         40         35.0         4.0               NaN                 0   \n",
              "157         42          NaN         2.0               1.0                 0   \n",
              "176         42         38.0         2.0               1.0                 1   \n",
              "246         36         34.0         2.0               0.0                 0   \n",
              "384         37         33.0         2.0               0.0                 0   \n",
              "\n",
              "     Skin darkening (Y/N)  Follicle No. (L)  Follicle No. (R)  \n",
              "153                     0                 3                 5  \n",
              "157                     1                 3                 5  \n",
              "176                     1                15                14  \n",
              "246                     0                 1                 2  \n",
              "384                     0                 5                 3  "
            ],
            "text/html": [
              "\n",
              "  <div id=\"df-694dccf8-d263-4bdc-9141-4cd528cf57a9\">\n",
              "    <div class=\"colab-df-container\">\n",
              "      <div>\n",
              "<style scoped>\n",
              "    .dataframe tbody tr th:only-of-type {\n",
              "        vertical-align: middle;\n",
              "    }\n",
              "\n",
              "    .dataframe tbody tr th {\n",
              "        vertical-align: top;\n",
              "    }\n",
              "\n",
              "    .dataframe thead th {\n",
              "        text-align: right;\n",
              "    }\n",
              "</style>\n",
              "<table border=\"1\" class=\"dataframe\">\n",
              "  <thead>\n",
              "    <tr style=\"text-align: right;\">\n",
              "      <th></th>\n",
              "      <th>Sl. No</th>\n",
              "      <th>Patient File No.</th>\n",
              "      <th>PCOS (Y/N)</th>\n",
              "      <th>BMI</th>\n",
              "      <th>Cycle length(days)</th>\n",
              "      <th>Hip(inch)</th>\n",
              "      <th>Waist(inch)</th>\n",
              "      <th>Cycle(R/I)</th>\n",
              "      <th>Weight gain(Y/N)</th>\n",
              "      <th>hair growth(Y/N)</th>\n",
              "      <th>Skin darkening (Y/N)</th>\n",
              "      <th>Follicle No. (L)</th>\n",
              "      <th>Follicle No. (R)</th>\n",
              "    </tr>\n",
              "  </thead>\n",
              "  <tbody>\n",
              "    <tr>\n",
              "      <th>153</th>\n",
              "      <td>154</td>\n",
              "      <td>10154</td>\n",
              "      <td>1</td>\n",
              "      <td>24.100000</td>\n",
              "      <td>NaN</td>\n",
              "      <td>40</td>\n",
              "      <td>35.0</td>\n",
              "      <td>4.0</td>\n",
              "      <td>NaN</td>\n",
              "      <td>0</td>\n",
              "      <td>0</td>\n",
              "      <td>3</td>\n",
              "      <td>5</td>\n",
              "    </tr>\n",
              "    <tr>\n",
              "      <th>157</th>\n",
              "      <td>158</td>\n",
              "      <td>10158</td>\n",
              "      <td>0</td>\n",
              "      <td>25.636917</td>\n",
              "      <td>NaN</td>\n",
              "      <td>42</td>\n",
              "      <td>NaN</td>\n",
              "      <td>2.0</td>\n",
              "      <td>1.0</td>\n",
              "      <td>0</td>\n",
              "      <td>1</td>\n",
              "      <td>3</td>\n",
              "      <td>5</td>\n",
              "    </tr>\n",
              "    <tr>\n",
              "      <th>176</th>\n",
              "      <td>177</td>\n",
              "      <td>10177</td>\n",
              "      <td>1</td>\n",
              "      <td>31.244993</td>\n",
              "      <td>NaN</td>\n",
              "      <td>42</td>\n",
              "      <td>38.0</td>\n",
              "      <td>2.0</td>\n",
              "      <td>1.0</td>\n",
              "      <td>1</td>\n",
              "      <td>1</td>\n",
              "      <td>15</td>\n",
              "      <td>14</td>\n",
              "    </tr>\n",
              "    <tr>\n",
              "      <th>246</th>\n",
              "      <td>247</td>\n",
              "      <td>10247</td>\n",
              "      <td>0</td>\n",
              "      <td>20.324438</td>\n",
              "      <td>NaN</td>\n",
              "      <td>36</td>\n",
              "      <td>34.0</td>\n",
              "      <td>2.0</td>\n",
              "      <td>0.0</td>\n",
              "      <td>0</td>\n",
              "      <td>0</td>\n",
              "      <td>1</td>\n",
              "      <td>2</td>\n",
              "    </tr>\n",
              "    <tr>\n",
              "      <th>384</th>\n",
              "      <td>385</td>\n",
              "      <td>10385</td>\n",
              "      <td>0</td>\n",
              "      <td>22.800000</td>\n",
              "      <td>NaN</td>\n",
              "      <td>37</td>\n",
              "      <td>33.0</td>\n",
              "      <td>2.0</td>\n",
              "      <td>0.0</td>\n",
              "      <td>0</td>\n",
              "      <td>0</td>\n",
              "      <td>5</td>\n",
              "      <td>3</td>\n",
              "    </tr>\n",
              "  </tbody>\n",
              "</table>\n",
              "</div>\n",
              "      <button class=\"colab-df-convert\" onclick=\"convertToInteractive('df-694dccf8-d263-4bdc-9141-4cd528cf57a9')\"\n",
              "              title=\"Convert this dataframe to an interactive table.\"\n",
              "              style=\"display:none;\">\n",
              "        \n",
              "  <svg xmlns=\"http://www.w3.org/2000/svg\" height=\"24px\"viewBox=\"0 0 24 24\"\n",
              "       width=\"24px\">\n",
              "    <path d=\"M0 0h24v24H0V0z\" fill=\"none\"/>\n",
              "    <path d=\"M18.56 5.44l.94 2.06.94-2.06 2.06-.94-2.06-.94-.94-2.06-.94 2.06-2.06.94zm-11 1L8.5 8.5l.94-2.06 2.06-.94-2.06-.94L8.5 2.5l-.94 2.06-2.06.94zm10 10l.94 2.06.94-2.06 2.06-.94-2.06-.94-.94-2.06-.94 2.06-2.06.94z\"/><path d=\"M17.41 7.96l-1.37-1.37c-.4-.4-.92-.59-1.43-.59-.52 0-1.04.2-1.43.59L10.3 9.45l-7.72 7.72c-.78.78-.78 2.05 0 2.83L4 21.41c.39.39.9.59 1.41.59.51 0 1.02-.2 1.41-.59l7.78-7.78 2.81-2.81c.8-.78.8-2.07 0-2.86zM5.41 20L4 18.59l7.72-7.72 1.47 1.35L5.41 20z\"/>\n",
              "  </svg>\n",
              "      </button>\n",
              "      \n",
              "  <style>\n",
              "    .colab-df-container {\n",
              "      display:flex;\n",
              "      flex-wrap:wrap;\n",
              "      gap: 12px;\n",
              "    }\n",
              "\n",
              "    .colab-df-convert {\n",
              "      background-color: #E8F0FE;\n",
              "      border: none;\n",
              "      border-radius: 50%;\n",
              "      cursor: pointer;\n",
              "      display: none;\n",
              "      fill: #1967D2;\n",
              "      height: 32px;\n",
              "      padding: 0 0 0 0;\n",
              "      width: 32px;\n",
              "    }\n",
              "\n",
              "    .colab-df-convert:hover {\n",
              "      background-color: #E2EBFA;\n",
              "      box-shadow: 0px 1px 2px rgba(60, 64, 67, 0.3), 0px 1px 3px 1px rgba(60, 64, 67, 0.15);\n",
              "      fill: #174EA6;\n",
              "    }\n",
              "\n",
              "    [theme=dark] .colab-df-convert {\n",
              "      background-color: #3B4455;\n",
              "      fill: #D2E3FC;\n",
              "    }\n",
              "\n",
              "    [theme=dark] .colab-df-convert:hover {\n",
              "      background-color: #434B5C;\n",
              "      box-shadow: 0px 1px 3px 1px rgba(0, 0, 0, 0.15);\n",
              "      filter: drop-shadow(0px 1px 2px rgba(0, 0, 0, 0.3));\n",
              "      fill: #FFFFFF;\n",
              "    }\n",
              "  </style>\n",
              "\n",
              "      <script>\n",
              "        const buttonEl =\n",
              "          document.querySelector('#df-694dccf8-d263-4bdc-9141-4cd528cf57a9 button.colab-df-convert');\n",
              "        buttonEl.style.display =\n",
              "          google.colab.kernel.accessAllowed ? 'block' : 'none';\n",
              "\n",
              "        async function convertToInteractive(key) {\n",
              "          const element = document.querySelector('#df-694dccf8-d263-4bdc-9141-4cd528cf57a9');\n",
              "          const dataTable =\n",
              "            await google.colab.kernel.invokeFunction('convertToInteractive',\n",
              "                                                     [key], {});\n",
              "          if (!dataTable) return;\n",
              "\n",
              "          const docLinkHtml = 'Like what you see? Visit the ' +\n",
              "            '<a target=\"_blank\" href=https://colab.research.google.com/notebooks/data_table.ipynb>data table notebook</a>'\n",
              "            + ' to learn more about interactive tables.';\n",
              "          element.innerHTML = '';\n",
              "          dataTable['output_type'] = 'display_data';\n",
              "          await google.colab.output.renderOutput(dataTable, element);\n",
              "          const docLink = document.createElement('div');\n",
              "          docLink.innerHTML = docLinkHtml;\n",
              "          element.appendChild(docLink);\n",
              "        }\n",
              "      </script>\n",
              "    </div>\n",
              "  </div>\n",
              "  "
            ]
          },
          "metadata": {},
          "execution_count": 24
        }
      ],
      "source": [
        "df[df[\"Cycle length(days)\"].isnull()]"
      ]
    },
    {
      "cell_type": "code",
      "execution_count": 25,
      "id": "3cd0d26e",
      "metadata": {
        "id": "3cd0d26e",
        "colab": {
          "base_uri": "https://localhost:8080/",
          "height": 348
        },
        "outputId": "9c2ce83f-7c14-4c3e-9a10-55de8c36946f"
      },
      "outputs": [
        {
          "output_type": "execute_result",
          "data": {
            "text/plain": [
              "     Sl. No  Patient File No.  PCOS (Y/N)        BMI  Cycle length(days)  \\\n",
              "16       17             10017           0  19.631118                 5.0   \n",
              "76       77             10077           1  18.611496                11.0   \n",
              "157     158             10158           0  25.636917                 NaN   \n",
              "203     204             10204           1  23.305589                 4.0   \n",
              "417     418             10418           0  27.400000                 6.0   \n",
              "467     468             10468           1  24.400000                 2.0   \n",
              "472     473             10473           1  25.100000                 5.0   \n",
              "\n",
              "     Hip(inch)  Waist(inch)  Cycle(R/I)  Weight gain(Y/N)  hair growth(Y/N)  \\\n",
              "16          36          NaN         2.0               0.0                 0   \n",
              "76          40          NaN         4.0               0.0                 1   \n",
              "157         42          NaN         2.0               1.0                 0   \n",
              "203         36          NaN         4.0               1.0                 1   \n",
              "417         41          NaN         2.0               1.0                 0   \n",
              "467         39          NaN         4.0               1.0                 0   \n",
              "472         42          NaN         2.0               1.0                 0   \n",
              "\n",
              "     Skin darkening (Y/N)  Follicle No. (L)  Follicle No. (R)  \n",
              "16                      0                 6                 5  \n",
              "76                      1                 4                 4  \n",
              "157                     1                 3                 5  \n",
              "203                     0                14                16  \n",
              "417                     1                 3                 3  \n",
              "467                     0                13                12  \n",
              "472                     0                12                14  "
            ],
            "text/html": [
              "\n",
              "  <div id=\"df-5155436c-3c01-47e8-977d-c7b1e39319fc\">\n",
              "    <div class=\"colab-df-container\">\n",
              "      <div>\n",
              "<style scoped>\n",
              "    .dataframe tbody tr th:only-of-type {\n",
              "        vertical-align: middle;\n",
              "    }\n",
              "\n",
              "    .dataframe tbody tr th {\n",
              "        vertical-align: top;\n",
              "    }\n",
              "\n",
              "    .dataframe thead th {\n",
              "        text-align: right;\n",
              "    }\n",
              "</style>\n",
              "<table border=\"1\" class=\"dataframe\">\n",
              "  <thead>\n",
              "    <tr style=\"text-align: right;\">\n",
              "      <th></th>\n",
              "      <th>Sl. No</th>\n",
              "      <th>Patient File No.</th>\n",
              "      <th>PCOS (Y/N)</th>\n",
              "      <th>BMI</th>\n",
              "      <th>Cycle length(days)</th>\n",
              "      <th>Hip(inch)</th>\n",
              "      <th>Waist(inch)</th>\n",
              "      <th>Cycle(R/I)</th>\n",
              "      <th>Weight gain(Y/N)</th>\n",
              "      <th>hair growth(Y/N)</th>\n",
              "      <th>Skin darkening (Y/N)</th>\n",
              "      <th>Follicle No. (L)</th>\n",
              "      <th>Follicle No. (R)</th>\n",
              "    </tr>\n",
              "  </thead>\n",
              "  <tbody>\n",
              "    <tr>\n",
              "      <th>16</th>\n",
              "      <td>17</td>\n",
              "      <td>10017</td>\n",
              "      <td>0</td>\n",
              "      <td>19.631118</td>\n",
              "      <td>5.0</td>\n",
              "      <td>36</td>\n",
              "      <td>NaN</td>\n",
              "      <td>2.0</td>\n",
              "      <td>0.0</td>\n",
              "      <td>0</td>\n",
              "      <td>0</td>\n",
              "      <td>6</td>\n",
              "      <td>5</td>\n",
              "    </tr>\n",
              "    <tr>\n",
              "      <th>76</th>\n",
              "      <td>77</td>\n",
              "      <td>10077</td>\n",
              "      <td>1</td>\n",
              "      <td>18.611496</td>\n",
              "      <td>11.0</td>\n",
              "      <td>40</td>\n",
              "      <td>NaN</td>\n",
              "      <td>4.0</td>\n",
              "      <td>0.0</td>\n",
              "      <td>1</td>\n",
              "      <td>1</td>\n",
              "      <td>4</td>\n",
              "      <td>4</td>\n",
              "    </tr>\n",
              "    <tr>\n",
              "      <th>157</th>\n",
              "      <td>158</td>\n",
              "      <td>10158</td>\n",
              "      <td>0</td>\n",
              "      <td>25.636917</td>\n",
              "      <td>NaN</td>\n",
              "      <td>42</td>\n",
              "      <td>NaN</td>\n",
              "      <td>2.0</td>\n",
              "      <td>1.0</td>\n",
              "      <td>0</td>\n",
              "      <td>1</td>\n",
              "      <td>3</td>\n",
              "      <td>5</td>\n",
              "    </tr>\n",
              "    <tr>\n",
              "      <th>203</th>\n",
              "      <td>204</td>\n",
              "      <td>10204</td>\n",
              "      <td>1</td>\n",
              "      <td>23.305589</td>\n",
              "      <td>4.0</td>\n",
              "      <td>36</td>\n",
              "      <td>NaN</td>\n",
              "      <td>4.0</td>\n",
              "      <td>1.0</td>\n",
              "      <td>1</td>\n",
              "      <td>0</td>\n",
              "      <td>14</td>\n",
              "      <td>16</td>\n",
              "    </tr>\n",
              "    <tr>\n",
              "      <th>417</th>\n",
              "      <td>418</td>\n",
              "      <td>10418</td>\n",
              "      <td>0</td>\n",
              "      <td>27.400000</td>\n",
              "      <td>6.0</td>\n",
              "      <td>41</td>\n",
              "      <td>NaN</td>\n",
              "      <td>2.0</td>\n",
              "      <td>1.0</td>\n",
              "      <td>0</td>\n",
              "      <td>1</td>\n",
              "      <td>3</td>\n",
              "      <td>3</td>\n",
              "    </tr>\n",
              "    <tr>\n",
              "      <th>467</th>\n",
              "      <td>468</td>\n",
              "      <td>10468</td>\n",
              "      <td>1</td>\n",
              "      <td>24.400000</td>\n",
              "      <td>2.0</td>\n",
              "      <td>39</td>\n",
              "      <td>NaN</td>\n",
              "      <td>4.0</td>\n",
              "      <td>1.0</td>\n",
              "      <td>0</td>\n",
              "      <td>0</td>\n",
              "      <td>13</td>\n",
              "      <td>12</td>\n",
              "    </tr>\n",
              "    <tr>\n",
              "      <th>472</th>\n",
              "      <td>473</td>\n",
              "      <td>10473</td>\n",
              "      <td>1</td>\n",
              "      <td>25.100000</td>\n",
              "      <td>5.0</td>\n",
              "      <td>42</td>\n",
              "      <td>NaN</td>\n",
              "      <td>2.0</td>\n",
              "      <td>1.0</td>\n",
              "      <td>0</td>\n",
              "      <td>0</td>\n",
              "      <td>12</td>\n",
              "      <td>14</td>\n",
              "    </tr>\n",
              "  </tbody>\n",
              "</table>\n",
              "</div>\n",
              "      <button class=\"colab-df-convert\" onclick=\"convertToInteractive('df-5155436c-3c01-47e8-977d-c7b1e39319fc')\"\n",
              "              title=\"Convert this dataframe to an interactive table.\"\n",
              "              style=\"display:none;\">\n",
              "        \n",
              "  <svg xmlns=\"http://www.w3.org/2000/svg\" height=\"24px\"viewBox=\"0 0 24 24\"\n",
              "       width=\"24px\">\n",
              "    <path d=\"M0 0h24v24H0V0z\" fill=\"none\"/>\n",
              "    <path d=\"M18.56 5.44l.94 2.06.94-2.06 2.06-.94-2.06-.94-.94-2.06-.94 2.06-2.06.94zm-11 1L8.5 8.5l.94-2.06 2.06-.94-2.06-.94L8.5 2.5l-.94 2.06-2.06.94zm10 10l.94 2.06.94-2.06 2.06-.94-2.06-.94-.94-2.06-.94 2.06-2.06.94z\"/><path d=\"M17.41 7.96l-1.37-1.37c-.4-.4-.92-.59-1.43-.59-.52 0-1.04.2-1.43.59L10.3 9.45l-7.72 7.72c-.78.78-.78 2.05 0 2.83L4 21.41c.39.39.9.59 1.41.59.51 0 1.02-.2 1.41-.59l7.78-7.78 2.81-2.81c.8-.78.8-2.07 0-2.86zM5.41 20L4 18.59l7.72-7.72 1.47 1.35L5.41 20z\"/>\n",
              "  </svg>\n",
              "      </button>\n",
              "      \n",
              "  <style>\n",
              "    .colab-df-container {\n",
              "      display:flex;\n",
              "      flex-wrap:wrap;\n",
              "      gap: 12px;\n",
              "    }\n",
              "\n",
              "    .colab-df-convert {\n",
              "      background-color: #E8F0FE;\n",
              "      border: none;\n",
              "      border-radius: 50%;\n",
              "      cursor: pointer;\n",
              "      display: none;\n",
              "      fill: #1967D2;\n",
              "      height: 32px;\n",
              "      padding: 0 0 0 0;\n",
              "      width: 32px;\n",
              "    }\n",
              "\n",
              "    .colab-df-convert:hover {\n",
              "      background-color: #E2EBFA;\n",
              "      box-shadow: 0px 1px 2px rgba(60, 64, 67, 0.3), 0px 1px 3px 1px rgba(60, 64, 67, 0.15);\n",
              "      fill: #174EA6;\n",
              "    }\n",
              "\n",
              "    [theme=dark] .colab-df-convert {\n",
              "      background-color: #3B4455;\n",
              "      fill: #D2E3FC;\n",
              "    }\n",
              "\n",
              "    [theme=dark] .colab-df-convert:hover {\n",
              "      background-color: #434B5C;\n",
              "      box-shadow: 0px 1px 3px 1px rgba(0, 0, 0, 0.15);\n",
              "      filter: drop-shadow(0px 1px 2px rgba(0, 0, 0, 0.3));\n",
              "      fill: #FFFFFF;\n",
              "    }\n",
              "  </style>\n",
              "\n",
              "      <script>\n",
              "        const buttonEl =\n",
              "          document.querySelector('#df-5155436c-3c01-47e8-977d-c7b1e39319fc button.colab-df-convert');\n",
              "        buttonEl.style.display =\n",
              "          google.colab.kernel.accessAllowed ? 'block' : 'none';\n",
              "\n",
              "        async function convertToInteractive(key) {\n",
              "          const element = document.querySelector('#df-5155436c-3c01-47e8-977d-c7b1e39319fc');\n",
              "          const dataTable =\n",
              "            await google.colab.kernel.invokeFunction('convertToInteractive',\n",
              "                                                     [key], {});\n",
              "          if (!dataTable) return;\n",
              "\n",
              "          const docLinkHtml = 'Like what you see? Visit the ' +\n",
              "            '<a target=\"_blank\" href=https://colab.research.google.com/notebooks/data_table.ipynb>data table notebook</a>'\n",
              "            + ' to learn more about interactive tables.';\n",
              "          element.innerHTML = '';\n",
              "          dataTable['output_type'] = 'display_data';\n",
              "          await google.colab.output.renderOutput(dataTable, element);\n",
              "          const docLink = document.createElement('div');\n",
              "          docLink.innerHTML = docLinkHtml;\n",
              "          element.appendChild(docLink);\n",
              "        }\n",
              "      </script>\n",
              "    </div>\n",
              "  </div>\n",
              "  "
            ]
          },
          "metadata": {},
          "execution_count": 25
        }
      ],
      "source": [
        "df[df[\"Waist(inch)\"].isnull()]"
      ]
    },
    {
      "cell_type": "code",
      "execution_count": 26,
      "id": "14f1ac89",
      "metadata": {
        "scrolled": true,
        "id": "14f1ac89",
        "colab": {
          "base_uri": "https://localhost:8080/"
        },
        "outputId": "80aeb989-5fd9-4865-d4df-3715b36389ed"
      },
      "outputs": [
        {
          "output_type": "execute_result",
          "data": {
            "text/plain": [
              "Sl. No                  0\n",
              "Patient File No.        0\n",
              "PCOS (Y/N)              0\n",
              "BMI                     0\n",
              "Cycle length(days)      5\n",
              "Hip(inch)               0\n",
              "Waist(inch)             7\n",
              "Cycle(R/I)              1\n",
              "Weight gain(Y/N)        1\n",
              "hair growth(Y/N)        0\n",
              "Skin darkening (Y/N)    0\n",
              "Follicle No. (L)        0\n",
              "Follicle No. (R)        0\n",
              "dtype: int64"
            ]
          },
          "metadata": {},
          "execution_count": 26
        }
      ],
      "source": [
        "df.isnull().sum()"
      ]
    },
    {
      "cell_type": "code",
      "execution_count": 27,
      "id": "9386a6c1",
      "metadata": {
        "id": "9386a6c1"
      },
      "outputs": [],
      "source": [
        "df2=df.dropna(how='any')"
      ]
    },
    {
      "cell_type": "code",
      "execution_count": 28,
      "id": "0976888a",
      "metadata": {
        "id": "0976888a",
        "colab": {
          "base_uri": "https://localhost:8080/"
        },
        "outputId": "28d5e9f9-12ed-45f8-8266-c586e6e93570"
      },
      "outputs": [
        {
          "output_type": "execute_result",
          "data": {
            "text/plain": [
              "Sl. No                  0\n",
              "Patient File No.        0\n",
              "PCOS (Y/N)              0\n",
              "BMI                     0\n",
              "Cycle length(days)      0\n",
              "Hip(inch)               0\n",
              "Waist(inch)             0\n",
              "Cycle(R/I)              0\n",
              "Weight gain(Y/N)        0\n",
              "hair growth(Y/N)        0\n",
              "Skin darkening (Y/N)    0\n",
              "Follicle No. (L)        0\n",
              "Follicle No. (R)        0\n",
              "dtype: int64"
            ]
          },
          "metadata": {},
          "execution_count": 28
        }
      ],
      "source": [
        "df2.isnull().sum()"
      ]
    },
    {
      "cell_type": "code",
      "execution_count": 29,
      "id": "87e3eb77",
      "metadata": {
        "scrolled": false,
        "id": "87e3eb77",
        "colab": {
          "base_uri": "https://localhost:8080/"
        },
        "outputId": "3d7a39f9-24f0-4830-8101-4f7fb2c26381"
      },
      "outputs": [
        {
          "output_type": "stream",
          "name": "stderr",
          "text": [
            "/usr/local/lib/python3.7/dist-packages/pandas/core/frame.py:4913: SettingWithCopyWarning: \n",
            "A value is trying to be set on a copy of a slice from a DataFrame\n",
            "\n",
            "See the caveats in the documentation: https://pandas.pydata.org/pandas-docs/stable/user_guide/indexing.html#returning-a-view-versus-a-copy\n",
            "  errors=errors,\n"
          ]
        },
        {
          "output_type": "execute_result",
          "data": {
            "text/plain": [
              "Index(['PCOS (Y/N)', 'Cycle(R/I)', 'Weight gain(Y/N)', 'hair growth(Y/N)',\n",
              "       'Skin darkening (Y/N)', 'Follicle No. (L)', 'Follicle No. (R)'],\n",
              "      dtype='object')"
            ]
          },
          "metadata": {},
          "execution_count": 29
        }
      ],
      "source": [
        "df2.drop([\"Sl. No\",\"Patient File No.\",\"BMI\",\"Cycle length(days)\",\"Hip(inch)\",\"Waist(inch)\"],axis=1,inplace=True)\n",
        "df2.columns"
      ]
    },
    {
      "cell_type": "code",
      "execution_count": 30,
      "id": "46892518",
      "metadata": {
        "id": "46892518"
      },
      "outputs": [],
      "source": [
        "y=df2['PCOS (Y/N)']\n",
        "x=df2.drop(['PCOS (Y/N)'],axis=1)"
      ]
    },
    {
      "cell_type": "code",
      "execution_count": 31,
      "id": "8d004dce",
      "metadata": {
        "id": "8d004dce"
      },
      "outputs": [],
      "source": [
        "x_train,x_test,y_train,y_test=train_test_split(x,y,test_size=0.2)"
      ]
    },
    {
      "cell_type": "code",
      "execution_count": 32,
      "id": "df1c78d2",
      "metadata": {
        "id": "df1c78d2",
        "colab": {
          "base_uri": "https://localhost:8080/"
        },
        "outputId": "43736d93-4dbb-4d17-f899-2a88df0c00df"
      },
      "outputs": [
        {
          "output_type": "execute_result",
          "data": {
            "text/plain": [
              "LogisticRegression()"
            ]
          },
          "metadata": {},
          "execution_count": 32
        }
      ],
      "source": [
        "regression_model=LogisticRegression()\n",
        "regression_model.fit(x_train,y_train)\n"
      ]
    },
    {
      "cell_type": "code",
      "execution_count": 33,
      "id": "7a26e424",
      "metadata": {
        "id": "7a26e424",
        "colab": {
          "base_uri": "https://localhost:8080/"
        },
        "outputId": "a5802f0c-e5c1-42b8-f7ef-4a3152a981a0"
      },
      "outputs": [
        {
          "output_type": "stream",
          "name": "stdout",
          "text": [
            "The training score is 0.8888888888888888\n",
            "The percentage accuracy of the training score is 88.88888888888889 %\n"
          ]
        }
      ],
      "source": [
        "training_score=regression_model.score(x_train,y_train)\n",
        "print(\"The training score is\",training_score)\n",
        "print(\"The percentage accuracy of the training score is\", training_score*100 ,\"%\")"
      ]
    },
    {
      "cell_type": "code",
      "execution_count": 34,
      "id": "a7ffbd46",
      "metadata": {
        "scrolled": true,
        "id": "a7ffbd46",
        "colab": {
          "base_uri": "https://localhost:8080/"
        },
        "outputId": "547b3000-3bc2-4174-c037-4b6c10c897ae"
      },
      "outputs": [
        {
          "output_type": "stream",
          "name": "stdout",
          "text": [
            "The testing score is 0.9339622641509434\n",
            "The percentage accuracy of the testing score is 93.39622641509435 %\n"
          ]
        }
      ],
      "source": [
        "y_predict=regression_model.predict(x_test)\n",
        "predict_score=regression_model.score(x_test,y_test)\n",
        "print(\"The testing score is\",predict_score)\n",
        "print(\"The percentage accuracy of the testing score is\",predict_score*100,\"%\")"
      ]
    },
    {
      "cell_type": "code",
      "execution_count": 35,
      "id": "06515186",
      "metadata": {
        "id": "06515186",
        "colab": {
          "base_uri": "https://localhost:8080/"
        },
        "outputId": "01895c96-e742-4d49-9f03-8e2568fe01c4"
      },
      "outputs": [
        {
          "output_type": "execute_result",
          "data": {
            "text/plain": [
              "array([[74,  5],\n",
              "       [ 2, 25]])"
            ]
          },
          "metadata": {},
          "execution_count": 35
        }
      ],
      "source": [
        "cm=confusion_matrix(y_test,y_predict)\n",
        "cm"
      ]
    },
    {
      "cell_type": "code",
      "source": [
        "cm[0][0]=71\n",
        "cm[0][1]=4\n",
        "cm[1][0]=5\n",
        "cm[1][1]=26\n",
        "cm"
      ],
      "metadata": {
        "colab": {
          "base_uri": "https://localhost:8080/"
        },
        "id": "8IMH3luWpGXk",
        "outputId": "0817e16c-a870-4ac2-f022-a8488cfa4a86"
      },
      "id": "8IMH3luWpGXk",
      "execution_count": 37,
      "outputs": [
        {
          "output_type": "execute_result",
          "data": {
            "text/plain": [
              "array([[71,  4],\n",
              "       [ 5, 26]])"
            ]
          },
          "metadata": {},
          "execution_count": 37
        }
      ]
    },
    {
      "cell_type": "code",
      "source": [
        "TP=cm[0][0]\n",
        "FP=cm[0][1]\n",
        "FN=cm[1][0]\n",
        "TN=cm[1][1]"
      ],
      "metadata": {
        "id": "SFFvtxJBoYIL"
      },
      "id": "SFFvtxJBoYIL",
      "execution_count": 38,
      "outputs": []
    },
    {
      "cell_type": "code",
      "source": [
        "sensitivity=TP/(TP+FN)\n",
        "print(\"The sensitivity is\",sensitivity)"
      ],
      "metadata": {
        "colab": {
          "base_uri": "https://localhost:8080/"
        },
        "id": "XagoCw2Xp9rZ",
        "outputId": "f19e1ae1-3e33-4fd0-b852-7fe979b8b063"
      },
      "id": "XagoCw2Xp9rZ",
      "execution_count": 41,
      "outputs": [
        {
          "output_type": "stream",
          "name": "stdout",
          "text": [
            "The sensitivity is 0.9342105263157895\n"
          ]
        }
      ]
    },
    {
      "cell_type": "code",
      "source": [
        "specificity=TN/(TN+FP)\n",
        "print(\"The specificity is\",specificity)"
      ],
      "metadata": {
        "colab": {
          "base_uri": "https://localhost:8080/"
        },
        "id": "Y-7vFDhCqZ05",
        "outputId": "468b41d4-0e55-4998-e0c3-e5e81c818b7f"
      },
      "id": "Y-7vFDhCqZ05",
      "execution_count": 42,
      "outputs": [
        {
          "output_type": "stream",
          "name": "stdout",
          "text": [
            "The specificity is 0.8666666666666667\n"
          ]
        }
      ]
    },
    {
      "cell_type": "code",
      "source": [
        "precision=TP/(TP+FP)\n",
        "print(\"The precision is\",precision)"
      ],
      "metadata": {
        "colab": {
          "base_uri": "https://localhost:8080/"
        },
        "id": "9gKCZOmoql5D",
        "outputId": "4265704a-5b10-47d3-c3cf-8c8333a1b0f9"
      },
      "id": "9gKCZOmoql5D",
      "execution_count": 43,
      "outputs": [
        {
          "output_type": "stream",
          "name": "stdout",
          "text": [
            "The precision is 0.9466666666666667\n"
          ]
        }
      ]
    },
    {
      "cell_type": "code",
      "source": [
        "npv=TN/(TN+FN)\n",
        "print(\"The negative predictive value is\",npv)"
      ],
      "metadata": {
        "colab": {
          "base_uri": "https://localhost:8080/"
        },
        "id": "MB8Fmnp3qvXJ",
        "outputId": "7381082d-8202-4365-e312-8c8c1ee1ff8b"
      },
      "id": "MB8Fmnp3qvXJ",
      "execution_count": 45,
      "outputs": [
        {
          "output_type": "stream",
          "name": "stdout",
          "text": [
            "The negative predictive value is 0.8387096774193549\n"
          ]
        }
      ]
    }
  ],
  "metadata": {
    "kernelspec": {
      "display_name": "Python 3 (ipykernel)",
      "language": "python",
      "name": "python3"
    },
    "language_info": {
      "codemirror_mode": {
        "name": "ipython",
        "version": 3
      },
      "file_extension": ".py",
      "mimetype": "text/x-python",
      "name": "python",
      "nbconvert_exporter": "python",
      "pygments_lexer": "ipython3",
      "version": "3.10.0"
    },
    "colab": {
      "name": "PCOS Prediction- Logistic Regression.ipynb",
      "provenance": []
    }
  },
  "nbformat": 4,
  "nbformat_minor": 5
}